{
 "cells": [
  {
   "cell_type": "code",
   "execution_count": 118,
   "id": "2fb2d638",
   "metadata": {},
   "outputs": [],
   "source": [
    "import numpy as np\n",
    "import pandas as pd\n",
    "import yfinance as yf\n",
    "import matplotlib.pyplot as plt"
   ]
  },
  {
   "cell_type": "code",
   "execution_count": 119,
   "id": "41879396",
   "metadata": {},
   "outputs": [
    {
     "name": "stdout",
     "output_type": "stream",
     "text": [
      "[*********************100%***********************]  1 of 1 completed\n"
     ]
    }
   ],
   "source": [
    "df = yf.download('ICICIBANK.NS', period = '1000d', interval='1d')"
   ]
  },
  {
   "cell_type": "code",
   "execution_count": 120,
   "id": "196cea86",
   "metadata": {},
   "outputs": [
    {
     "data": {
      "text/html": [
       "<div>\n",
       "<style scoped>\n",
       "    .dataframe tbody tr th:only-of-type {\n",
       "        vertical-align: middle;\n",
       "    }\n",
       "\n",
       "    .dataframe tbody tr th {\n",
       "        vertical-align: top;\n",
       "    }\n",
       "\n",
       "    .dataframe thead th {\n",
       "        text-align: right;\n",
       "    }\n",
       "</style>\n",
       "<table border=\"1\" class=\"dataframe\">\n",
       "  <thead>\n",
       "    <tr style=\"text-align: right;\">\n",
       "      <th></th>\n",
       "      <th>Open</th>\n",
       "      <th>High</th>\n",
       "      <th>Low</th>\n",
       "      <th>Close</th>\n",
       "      <th>Adj Close</th>\n",
       "      <th>Volume</th>\n",
       "    </tr>\n",
       "    <tr>\n",
       "      <th>Date</th>\n",
       "      <th></th>\n",
       "      <th></th>\n",
       "      <th></th>\n",
       "      <th></th>\n",
       "      <th></th>\n",
       "      <th></th>\n",
       "    </tr>\n",
       "  </thead>\n",
       "  <tbody>\n",
       "    <tr>\n",
       "      <th>2018-08-29</th>\n",
       "      <td>336.350006</td>\n",
       "      <td>342.649994</td>\n",
       "      <td>335.799988</td>\n",
       "      <td>340.649994</td>\n",
       "      <td>335.988007</td>\n",
       "      <td>18868248</td>\n",
       "    </tr>\n",
       "    <tr>\n",
       "      <th>2018-08-30</th>\n",
       "      <td>339.200012</td>\n",
       "      <td>345.450012</td>\n",
       "      <td>337.700012</td>\n",
       "      <td>344.350006</td>\n",
       "      <td>339.637360</td>\n",
       "      <td>22349447</td>\n",
       "    </tr>\n",
       "    <tr>\n",
       "      <th>2018-08-31</th>\n",
       "      <td>343.000000</td>\n",
       "      <td>346.799988</td>\n",
       "      <td>338.500000</td>\n",
       "      <td>342.600006</td>\n",
       "      <td>337.911346</td>\n",
       "      <td>19809916</td>\n",
       "    </tr>\n",
       "    <tr>\n",
       "      <th>2018-09-03</th>\n",
       "      <td>343.600006</td>\n",
       "      <td>344.000000</td>\n",
       "      <td>332.549988</td>\n",
       "      <td>334.149994</td>\n",
       "      <td>329.576935</td>\n",
       "      <td>12859450</td>\n",
       "    </tr>\n",
       "    <tr>\n",
       "      <th>2018-09-04</th>\n",
       "      <td>334.799988</td>\n",
       "      <td>336.450012</td>\n",
       "      <td>327.250000</td>\n",
       "      <td>328.500000</td>\n",
       "      <td>324.004272</td>\n",
       "      <td>15470215</td>\n",
       "    </tr>\n",
       "  </tbody>\n",
       "</table>\n",
       "</div>"
      ],
      "text/plain": [
       "                  Open        High         Low       Close   Adj Close  \\\n",
       "Date                                                                     \n",
       "2018-08-29  336.350006  342.649994  335.799988  340.649994  335.988007   \n",
       "2018-08-30  339.200012  345.450012  337.700012  344.350006  339.637360   \n",
       "2018-08-31  343.000000  346.799988  338.500000  342.600006  337.911346   \n",
       "2018-09-03  343.600006  344.000000  332.549988  334.149994  329.576935   \n",
       "2018-09-04  334.799988  336.450012  327.250000  328.500000  324.004272   \n",
       "\n",
       "              Volume  \n",
       "Date                  \n",
       "2018-08-29  18868248  \n",
       "2018-08-30  22349447  \n",
       "2018-08-31  19809916  \n",
       "2018-09-03  12859450  \n",
       "2018-09-04  15470215  "
      ]
     },
     "execution_count": 120,
     "metadata": {},
     "output_type": "execute_result"
    }
   ],
   "source": [
    "df.head()"
   ]
  },
  {
   "cell_type": "markdown",
   "id": "24274675",
   "metadata": {},
   "source": [
    "## EDA"
   ]
  },
  {
   "cell_type": "code",
   "execution_count": 121,
   "id": "fa4bab38",
   "metadata": {},
   "outputs": [
    {
     "name": "stdout",
     "output_type": "stream",
     "text": [
      "<class 'pandas.core.frame.DataFrame'>\n",
      "DatetimeIndex: 1000 entries, 2018-08-29 to 2022-09-16\n",
      "Data columns (total 6 columns):\n",
      " #   Column     Non-Null Count  Dtype  \n",
      "---  ------     --------------  -----  \n",
      " 0   Open       1000 non-null   float64\n",
      " 1   High       1000 non-null   float64\n",
      " 2   Low        1000 non-null   float64\n",
      " 3   Close      1000 non-null   float64\n",
      " 4   Adj Close  1000 non-null   float64\n",
      " 5   Volume     1000 non-null   int64  \n",
      "dtypes: float64(5), int64(1)\n",
      "memory usage: 54.7 KB\n"
     ]
    }
   ],
   "source": [
    "df.info()"
   ]
  },
  {
   "cell_type": "code",
   "execution_count": 122,
   "id": "c69fb444",
   "metadata": {},
   "outputs": [
    {
     "data": {
      "text/html": [
       "<div>\n",
       "<style scoped>\n",
       "    .dataframe tbody tr th:only-of-type {\n",
       "        vertical-align: middle;\n",
       "    }\n",
       "\n",
       "    .dataframe tbody tr th {\n",
       "        vertical-align: top;\n",
       "    }\n",
       "\n",
       "    .dataframe thead th {\n",
       "        text-align: right;\n",
       "    }\n",
       "</style>\n",
       "<table border=\"1\" class=\"dataframe\">\n",
       "  <thead>\n",
       "    <tr style=\"text-align: right;\">\n",
       "      <th></th>\n",
       "      <th>Open</th>\n",
       "      <th>High</th>\n",
       "      <th>Low</th>\n",
       "      <th>Close</th>\n",
       "      <th>Adj Close</th>\n",
       "      <th>Volume</th>\n",
       "    </tr>\n",
       "  </thead>\n",
       "  <tbody>\n",
       "    <tr>\n",
       "      <th>count</th>\n",
       "      <td>1000.000000</td>\n",
       "      <td>1000.000000</td>\n",
       "      <td>1000.000000</td>\n",
       "      <td>1000.000000</td>\n",
       "      <td>1000.000000</td>\n",
       "      <td>1.000000e+03</td>\n",
       "    </tr>\n",
       "    <tr>\n",
       "      <th>mean</th>\n",
       "      <td>533.058749</td>\n",
       "      <td>539.784601</td>\n",
       "      <td>526.193649</td>\n",
       "      <td>533.166599</td>\n",
       "      <td>528.809901</td>\n",
       "      <td>2.234369e+07</td>\n",
       "    </tr>\n",
       "    <tr>\n",
       "      <th>std</th>\n",
       "      <td>166.200980</td>\n",
       "      <td>167.031554</td>\n",
       "      <td>165.713145</td>\n",
       "      <td>166.571958</td>\n",
       "      <td>166.600692</td>\n",
       "      <td>1.694613e+07</td>\n",
       "    </tr>\n",
       "    <tr>\n",
       "      <th>min</th>\n",
       "      <td>284.000000</td>\n",
       "      <td>297.899994</td>\n",
       "      <td>268.299988</td>\n",
       "      <td>284.000000</td>\n",
       "      <td>281.481689</td>\n",
       "      <td>2.074764e+06</td>\n",
       "    </tr>\n",
       "    <tr>\n",
       "      <th>25%</th>\n",
       "      <td>377.974998</td>\n",
       "      <td>381.799988</td>\n",
       "      <td>372.124992</td>\n",
       "      <td>376.262489</td>\n",
       "      <td>372.628738</td>\n",
       "      <td>1.233086e+07</td>\n",
       "    </tr>\n",
       "    <tr>\n",
       "      <th>50%</th>\n",
       "      <td>509.800003</td>\n",
       "      <td>516.225006</td>\n",
       "      <td>504.875000</td>\n",
       "      <td>510.575012</td>\n",
       "      <td>506.047623</td>\n",
       "      <td>1.790524e+07</td>\n",
       "    </tr>\n",
       "    <tr>\n",
       "      <th>75%</th>\n",
       "      <td>697.137497</td>\n",
       "      <td>704.962509</td>\n",
       "      <td>689.287491</td>\n",
       "      <td>697.424988</td>\n",
       "      <td>693.264740</td>\n",
       "      <td>2.670509e+07</td>\n",
       "    </tr>\n",
       "    <tr>\n",
       "      <th>max</th>\n",
       "      <td>920.000000</td>\n",
       "      <td>936.650024</td>\n",
       "      <td>915.750000</td>\n",
       "      <td>918.099976</td>\n",
       "      <td>918.099976</td>\n",
       "      <td>2.868577e+08</td>\n",
       "    </tr>\n",
       "  </tbody>\n",
       "</table>\n",
       "</div>"
      ],
      "text/plain": [
       "              Open         High          Low        Close    Adj Close  \\\n",
       "count  1000.000000  1000.000000  1000.000000  1000.000000  1000.000000   \n",
       "mean    533.058749   539.784601   526.193649   533.166599   528.809901   \n",
       "std     166.200980   167.031554   165.713145   166.571958   166.600692   \n",
       "min     284.000000   297.899994   268.299988   284.000000   281.481689   \n",
       "25%     377.974998   381.799988   372.124992   376.262489   372.628738   \n",
       "50%     509.800003   516.225006   504.875000   510.575012   506.047623   \n",
       "75%     697.137497   704.962509   689.287491   697.424988   693.264740   \n",
       "max     920.000000   936.650024   915.750000   918.099976   918.099976   \n",
       "\n",
       "             Volume  \n",
       "count  1.000000e+03  \n",
       "mean   2.234369e+07  \n",
       "std    1.694613e+07  \n",
       "min    2.074764e+06  \n",
       "25%    1.233086e+07  \n",
       "50%    1.790524e+07  \n",
       "75%    2.670509e+07  \n",
       "max    2.868577e+08  "
      ]
     },
     "execution_count": 122,
     "metadata": {},
     "output_type": "execute_result"
    }
   ],
   "source": [
    "df.describe()"
   ]
  },
  {
   "cell_type": "code",
   "execution_count": 123,
   "id": "7bcf66c6",
   "metadata": {},
   "outputs": [
    {
     "data": {
      "text/html": [
       "<div>\n",
       "<style scoped>\n",
       "    .dataframe tbody tr th:only-of-type {\n",
       "        vertical-align: middle;\n",
       "    }\n",
       "\n",
       "    .dataframe tbody tr th {\n",
       "        vertical-align: top;\n",
       "    }\n",
       "\n",
       "    .dataframe thead th {\n",
       "        text-align: right;\n",
       "    }\n",
       "</style>\n",
       "<table border=\"1\" class=\"dataframe\">\n",
       "  <thead>\n",
       "    <tr style=\"text-align: right;\">\n",
       "      <th></th>\n",
       "      <th>Open</th>\n",
       "      <th>High</th>\n",
       "      <th>Low</th>\n",
       "      <th>Close</th>\n",
       "      <th>Adj Close</th>\n",
       "      <th>Volume</th>\n",
       "    </tr>\n",
       "    <tr>\n",
       "      <th>Date</th>\n",
       "      <th></th>\n",
       "      <th></th>\n",
       "      <th></th>\n",
       "      <th></th>\n",
       "      <th></th>\n",
       "      <th></th>\n",
       "    </tr>\n",
       "  </thead>\n",
       "  <tbody>\n",
       "    <tr>\n",
       "      <th>2018-08-31</th>\n",
       "      <td>339.516673</td>\n",
       "      <td>344.966665</td>\n",
       "      <td>337.333333</td>\n",
       "      <td>342.533335</td>\n",
       "      <td>337.845571</td>\n",
       "      <td>2.034254e+07</td>\n",
       "    </tr>\n",
       "    <tr>\n",
       "      <th>2018-09-30</th>\n",
       "      <td>324.505556</td>\n",
       "      <td>327.672223</td>\n",
       "      <td>317.372221</td>\n",
       "      <td>321.916667</td>\n",
       "      <td>317.511051</td>\n",
       "      <td>1.820762e+07</td>\n",
       "    </tr>\n",
       "    <tr>\n",
       "      <th>2018-10-31</th>\n",
       "      <td>318.169048</td>\n",
       "      <td>326.142857</td>\n",
       "      <td>312.142856</td>\n",
       "      <td>320.545240</td>\n",
       "      <td>316.158391</td>\n",
       "      <td>2.874827e+07</td>\n",
       "    </tr>\n",
       "    <tr>\n",
       "      <th>2018-11-30</th>\n",
       "      <td>358.455000</td>\n",
       "      <td>362.180000</td>\n",
       "      <td>354.129999</td>\n",
       "      <td>357.875000</td>\n",
       "      <td>352.977266</td>\n",
       "      <td>2.085818e+07</td>\n",
       "    </tr>\n",
       "    <tr>\n",
       "      <th>2018-12-31</th>\n",
       "      <td>353.742496</td>\n",
       "      <td>357.720001</td>\n",
       "      <td>350.714998</td>\n",
       "      <td>354.697501</td>\n",
       "      <td>349.843254</td>\n",
       "      <td>1.604661e+07</td>\n",
       "    </tr>\n",
       "  </tbody>\n",
       "</table>\n",
       "</div>"
      ],
      "text/plain": [
       "                  Open        High         Low       Close   Adj Close  \\\n",
       "Date                                                                     \n",
       "2018-08-31  339.516673  344.966665  337.333333  342.533335  337.845571   \n",
       "2018-09-30  324.505556  327.672223  317.372221  321.916667  317.511051   \n",
       "2018-10-31  318.169048  326.142857  312.142856  320.545240  316.158391   \n",
       "2018-11-30  358.455000  362.180000  354.129999  357.875000  352.977266   \n",
       "2018-12-31  353.742496  357.720001  350.714998  354.697501  349.843254   \n",
       "\n",
       "                  Volume  \n",
       "Date                      \n",
       "2018-08-31  2.034254e+07  \n",
       "2018-09-30  1.820762e+07  \n",
       "2018-10-31  2.874827e+07  \n",
       "2018-11-30  2.085818e+07  \n",
       "2018-12-31  1.604661e+07  "
      ]
     },
     "execution_count": 123,
     "metadata": {},
     "output_type": "execute_result"
    }
   ],
   "source": [
    "df.resample('M').mean().head()"
   ]
  },
  {
   "cell_type": "markdown",
   "id": "7c325fea",
   "metadata": {},
   "source": [
    "## Calculating returns"
   ]
  },
  {
   "cell_type": "code",
   "execution_count": 124,
   "id": "17921ee3",
   "metadata": {},
   "outputs": [],
   "source": [
    "daily_close = df[['Adj Close']]"
   ]
  },
  {
   "cell_type": "code",
   "execution_count": 125,
   "id": "8d283f86",
   "metadata": {},
   "outputs": [],
   "source": [
    "daily_return = daily_close.pct_change()"
   ]
  },
  {
   "cell_type": "code",
   "execution_count": 126,
   "id": "e0ea8c2a",
   "metadata": {},
   "outputs": [],
   "source": [
    "daily_return.fillna(0, inplace = True)"
   ]
  },
  {
   "cell_type": "code",
   "execution_count": 127,
   "id": "2d880718",
   "metadata": {},
   "outputs": [
    {
     "name": "stdout",
     "output_type": "stream",
     "text": [
      "            Adj Close\n",
      "Date                 \n",
      "2018-08-29   0.000000\n",
      "2018-08-30   0.010862\n",
      "2018-08-31  -0.005082\n",
      "2018-09-03  -0.024664\n",
      "2018-09-04  -0.016909\n",
      "...               ...\n",
      "2022-09-12   0.006602\n",
      "2022-09-13   0.003086\n",
      "2022-09-14   0.008901\n",
      "2022-09-15  -0.000545\n",
      "2022-09-16  -0.006866\n",
      "\n",
      "[1000 rows x 1 columns]\n"
     ]
    }
   ],
   "source": [
    "print(daily_return)"
   ]
  },
  {
   "cell_type": "code",
   "execution_count": 128,
   "id": "5aac8f50",
   "metadata": {},
   "outputs": [],
   "source": [
    "new_df = df.resample('M').apply(lambda x:x[-1])\n",
    "monthly_return = new_df.pct_change()"
   ]
  },
  {
   "cell_type": "code",
   "execution_count": 129,
   "id": "189d6000",
   "metadata": {},
   "outputs": [],
   "source": [
    "monthly_return.fillna(0,inplace=True)"
   ]
  },
  {
   "cell_type": "code",
   "execution_count": 130,
   "id": "99e20fe7",
   "metadata": {},
   "outputs": [
    {
     "name": "stdout",
     "output_type": "stream",
     "text": [
      "                Open      High       Low     Close  Adj Close     Volume\n",
      "Date                                                                    \n",
      "2018-08-31  0.000000  0.000000  0.000000  0.000000   0.000000   0.000000\n",
      "2018-09-30 -0.098834 -0.101499 -0.108420 -0.108144  -0.108144   0.327068\n",
      "2018-10-31  0.117761  0.144255  0.134195  0.161839   0.161839   0.188059\n",
      "2018-11-30  0.056440  0.023699  0.033596  0.000423   0.000422  -0.299015\n",
      "2018-12-31 -0.006027 -0.004110  0.016111  0.014079   0.014079  -0.665929\n",
      "2019-01-31  0.027288  0.036176 -0.015021  0.011940   0.011939  10.746784\n",
      "2019-02-28 -0.065066 -0.066109 -0.025699 -0.039237  -0.039237  -0.786456\n",
      "2019-03-31  0.127134  0.142573  0.138406  0.143938   0.143938   0.260007\n",
      "2019-04-30  0.038192  0.019657  0.026862  0.017351   0.017351  -0.161866\n",
      "2019-05-31  0.047210  0.049780  0.027275  0.039755   0.039755   0.271961\n",
      "2019-06-30  0.029274  0.023942  0.046585  0.031626   0.031626  -0.453876\n",
      "2019-07-31 -0.035495 -0.023382 -0.028598 -0.028598  -0.023852   0.659079\n",
      "2019-08-31 -0.041047 -0.040330 -0.044041 -0.035210  -0.035210  -0.179835\n",
      "2019-09-30  0.090529  0.078237  0.070409  0.058709   0.058709   0.502914\n",
      "2019-10-31  0.071509  0.070987  0.070302  0.067673   0.067673  -0.229841\n",
      "2019-11-30  0.086316  0.083377  0.106222  0.107008   0.107008  -0.371435\n",
      "2019-12-31  0.053876  0.052856  0.054282  0.051307   0.051307  -0.062484\n",
      "2020-01-31 -0.025377 -0.020320 -0.028996 -0.024587  -0.024587   0.304243\n",
      "2020-02-29 -0.053585 -0.048616 -0.057810 -0.054028  -0.054028   1.009377\n",
      "2020-03-31 -0.352671 -0.339351 -0.357985 -0.348919  -0.348919   0.413644\n",
      "2020-04-30  0.176471  0.173511  0.184019  0.174208   0.174208  -0.011778\n",
      "2020-05-31 -0.154712 -0.149256 -0.144728 -0.126792  -0.126792   0.322573\n",
      "2020-06-30  0.074636  0.060275  0.082187  0.058744   0.058744  -0.214282\n",
      "2020-07-31 -0.001585 -0.004091 -0.012273 -0.013231  -0.013231  -0.214217\n",
      "2020-08-31  0.197431  0.195467  0.132875  0.137832   0.137832   0.947886\n",
      "2020-09-30 -0.139569 -0.152844 -0.098452 -0.100988  -0.100988  -0.731043\n",
      "2020-10-31  0.118924  0.126434  0.110777  0.106695   0.106695   0.391520\n",
      "2020-11-30  0.192789  0.190837  0.214534  0.205680   0.205680   0.777428\n",
      "2020-12-31  0.112720  0.122928  0.117123  0.130347   0.130348  -0.425143\n",
      "2021-01-31  0.006131  0.011978  0.005603  0.003645   0.003644   0.192504\n",
      "2021-02-28  0.153089  0.128544  0.116064  0.113128   0.113128   0.728804\n",
      "2021-03-31 -0.047154 -0.041219 -0.020139 -0.026182  -0.026182  -0.649168\n",
      "2021-04-30  0.041126  0.045281  0.032988  0.031610   0.031610   0.175611\n",
      "2021-05-31  0.055155  0.078932  0.076325  0.103664   0.103664  -0.078937\n",
      "2021-06-30 -0.008466 -0.036391 -0.021670 -0.048057  -0.048057  -0.344698\n",
      "2021-07-31  0.076296  0.073112  0.076532  0.081788   0.084955   0.018195\n",
      "2021-08-31  0.039301  0.046899  0.046239  0.053553   0.053553   0.359377\n",
      "2021-09-30 -0.006162 -0.008334 -0.014873 -0.025311  -0.025311  -0.064409\n",
      "2021-10-31  0.124577  0.132862  0.121780  0.144396   0.144396  -0.150713\n",
      "2021-11-30 -0.101817 -0.094529 -0.092869 -0.109345  -0.109345   0.526375\n",
      "2021-12-31  0.027625  0.019050  0.035790  0.036117   0.036117  -0.709043\n",
      "2022-01-31  0.071143  0.070285  0.064422  0.065730   0.065730   1.125970\n",
      "2022-02-28 -0.083655 -0.067547 -0.087500 -0.058443  -0.058443   0.386045\n",
      "2022-03-31  0.023446 -0.006512  0.017333 -0.016696  -0.016696  -0.219057\n",
      "2022-04-30  0.013786  0.027098  0.016900  0.017801   0.017801   0.218986\n",
      "2022-05-31 -0.012132 -0.004277  0.000541  0.012848   0.012848   0.036395\n",
      "2022-06-30 -0.051619 -0.059204 -0.053072 -0.060636  -0.060636  -0.409517\n",
      "2022-07-31  0.167770  0.156623  0.152310  0.157523   0.157523  -0.073048\n",
      "2022-08-31  0.048559  0.081795  0.063243  0.083924   0.090428   0.130561\n",
      "2022-09-30  0.063219  0.030143  0.056920  0.027048   0.027048  -0.656749\n"
     ]
    }
   ],
   "source": [
    "print(monthly_return)"
   ]
  },
  {
   "cell_type": "markdown",
   "id": "ebefd9b8",
   "metadata": {},
   "source": [
    "## Mean using Rolling ()"
   ]
  },
  {
   "cell_type": "code",
   "execution_count": 131,
   "id": "83482591",
   "metadata": {},
   "outputs": [],
   "source": [
    "ad_price = df[\"Adj Close\"]"
   ]
  },
  {
   "cell_type": "code",
   "execution_count": 132,
   "id": "6e03615c",
   "metadata": {},
   "outputs": [],
   "source": [
    "mav = ad_price.rolling(window=50).mean()"
   ]
  },
  {
   "cell_type": "code",
   "execution_count": 133,
   "id": "0dbb12f3",
   "metadata": {},
   "outputs": [
    {
     "name": "stdout",
     "output_type": "stream",
     "text": [
      "Date\n",
      "2022-09-05    799.547378\n",
      "2022-09-06    803.320789\n",
      "2022-09-07    806.660906\n",
      "2022-09-08    810.375488\n",
      "2022-09-09    814.279230\n",
      "2022-09-12    818.452070\n",
      "2022-09-13    822.592441\n",
      "2022-09-14    826.960419\n",
      "2022-09-15    830.996329\n",
      "2022-09-16    834.919161\n",
      "Name: Adj Close, dtype: float64\n"
     ]
    }
   ],
   "source": [
    "print(mav[-10:])"
   ]
  },
  {
   "cell_type": "code",
   "execution_count": 134,
   "id": "b290c2be",
   "metadata": {},
   "outputs": [
    {
     "data": {
      "text/plain": [
       "<AxesSubplot:xlabel='Date'>"
      ]
     },
     "execution_count": 134,
     "metadata": {},
     "output_type": "execute_result"
    },
    {
     "data": {
      "image/png": "[encoded data removed]",
      "text/plain": [
       "<Figure size 432x288 with 1 Axes>"
      ]
     },
     "metadata": {
      "needs_background": "light"
     },
     "output_type": "display_data"
    }
   ],
   "source": [
    "ad_price.plot()"
   ]
  },
  {
   "cell_type": "code",
   "execution_count": 135,
   "id": "7512d276",
   "metadata": {},
   "outputs": [
    {
     "data": {
      "text/plain": [
       "<AxesSubplot:xlabel='Date'>"
      ]
     },
     "execution_count": 135,
     "metadata": {},
     "output_type": "execute_result"
    },
    {
     "data": {
      "image/png": "[encoded data removed]",
      "text/plain": [
       "<Figure size 432x288 with 1 Axes>"
      ]
     },
     "metadata": {
      "needs_background": "light"
     },
     "output_type": "display_data"
    }
   ],
   "source": [
    "mav.plot()"
   ]
  },
  {
   "cell_type": "code",
   "execution_count": null,
   "id": "43e8a0e9",
   "metadata": {},
   "outputs": [],
   "source": []
  },
  {
   "cell_type": "code",
   "execution_count": null,
   "id": "0c0f87a5",
   "metadata": {},
   "outputs": [],
   "source": []
  },
  {
   "cell_type": "code",
   "execution_count": 136,
   "id": "0ae94140",
   "metadata": {},
   "outputs": [],
   "source": [
    "short_l = 20\n",
    "long_l = 80"
   ]
  },
  {
   "cell_type": "code",
   "execution_count": 137,
   "id": "8af3c93e",
   "metadata": {},
   "outputs": [],
   "source": [
    "signal_df = pd.DataFrame(index= df.index)\n",
    "signal_df['signal']=0.0"
   ]
  },
  {
   "cell_type": "code",
   "execution_count": 138,
   "id": "19365538",
   "metadata": {},
   "outputs": [],
   "source": [
    "signal_df['short_mav'] = df['Adj Close'].rolling(window = short_l, min_periods=1, center = False).mean()"
   ]
  },
  {
   "cell_type": "code",
   "execution_count": 139,
   "id": "7945eb00",
   "metadata": {},
   "outputs": [],
   "source": [
    "signal_df['long_mav'] = df['Adj Close'].rolling(window = long_l, min_periods=1, center = False).mean()"
   ]
  },
  {
   "cell_type": "code",
   "execution_count": 140,
   "id": "d770da50",
   "metadata": {},
   "outputs": [],
   "source": [
    "signal_df['signal'][short_l:] = np.where(signal_df['short_mav'][short_l:]>signal_df['long_mav'][short_l:], 1.0, 0.0)"
   ]
  },
  {
   "cell_type": "code",
   "execution_count": 141,
   "id": "b8be9ae6",
   "metadata": {},
   "outputs": [
    {
     "data": {
      "text/html": [
       "<div>\n",
       "<style scoped>\n",
       "    .dataframe tbody tr th:only-of-type {\n",
       "        vertical-align: middle;\n",
       "    }\n",
       "\n",
       "    .dataframe tbody tr th {\n",
       "        vertical-align: top;\n",
       "    }\n",
       "\n",
       "    .dataframe thead th {\n",
       "        text-align: right;\n",
       "    }\n",
       "</style>\n",
       "<table border=\"1\" class=\"dataframe\">\n",
       "  <thead>\n",
       "    <tr style=\"text-align: right;\">\n",
       "      <th></th>\n",
       "      <th>signal</th>\n",
       "      <th>short_mav</th>\n",
       "      <th>long_mav</th>\n",
       "      <th>positions</th>\n",
       "    </tr>\n",
       "    <tr>\n",
       "      <th>Date</th>\n",
       "      <th></th>\n",
       "      <th></th>\n",
       "      <th></th>\n",
       "      <th></th>\n",
       "    </tr>\n",
       "  </thead>\n",
       "  <tbody>\n",
       "    <tr>\n",
       "      <th>2019-02-15</th>\n",
       "      <td>0.0</td>\n",
       "      <td>352.027937</td>\n",
       "      <td>352.129037</td>\n",
       "      <td>-1.0</td>\n",
       "    </tr>\n",
       "    <tr>\n",
       "      <th>2019-08-23</th>\n",
       "      <td>0.0</td>\n",
       "      <td>410.373557</td>\n",
       "      <td>410.445088</td>\n",
       "      <td>-1.0</td>\n",
       "    </tr>\n",
       "    <tr>\n",
       "      <th>2020-03-06</th>\n",
       "      <td>0.0</td>\n",
       "      <td>522.227837</td>\n",
       "      <td>522.509694</td>\n",
       "      <td>-1.0</td>\n",
       "    </tr>\n",
       "    <tr>\n",
       "      <th>2020-10-01</th>\n",
       "      <td>0.0</td>\n",
       "      <td>359.991808</td>\n",
       "      <td>360.499760</td>\n",
       "      <td>-1.0</td>\n",
       "    </tr>\n",
       "    <tr>\n",
       "      <th>2021-04-15</th>\n",
       "      <td>0.0</td>\n",
       "      <td>571.246802</td>\n",
       "      <td>573.132422</td>\n",
       "      <td>-1.0</td>\n",
       "    </tr>\n",
       "    <tr>\n",
       "      <th>2021-12-20</th>\n",
       "      <td>0.0</td>\n",
       "      <td>732.571362</td>\n",
       "      <td>734.291666</td>\n",
       "      <td>-1.0</td>\n",
       "    </tr>\n",
       "    <tr>\n",
       "      <th>2022-03-03</th>\n",
       "      <td>0.0</td>\n",
       "      <td>756.892905</td>\n",
       "      <td>759.694224</td>\n",
       "      <td>-1.0</td>\n",
       "    </tr>\n",
       "    <tr>\n",
       "      <th>2022-06-14</th>\n",
       "      <td>0.0</td>\n",
       "      <td>720.369580</td>\n",
       "      <td>720.445998</td>\n",
       "      <td>-1.0</td>\n",
       "    </tr>\n",
       "    <tr>\n",
       "      <th>2022-06-17</th>\n",
       "      <td>0.0</td>\n",
       "      <td>717.655869</td>\n",
       "      <td>717.827959</td>\n",
       "      <td>-1.0</td>\n",
       "    </tr>\n",
       "  </tbody>\n",
       "</table>\n",
       "</div>"
      ],
      "text/plain": [
       "            signal   short_mav    long_mav  positions\n",
       "Date                                                 \n",
       "2019-02-15     0.0  352.027937  352.129037       -1.0\n",
       "2019-08-23     0.0  410.373557  410.445088       -1.0\n",
       "2020-03-06     0.0  522.227837  522.509694       -1.0\n",
       "2020-10-01     0.0  359.991808  360.499760       -1.0\n",
       "2021-04-15     0.0  571.246802  573.132422       -1.0\n",
       "2021-12-20     0.0  732.571362  734.291666       -1.0\n",
       "2022-03-03     0.0  756.892905  759.694224       -1.0\n",
       "2022-06-14     0.0  720.369580  720.445998       -1.0\n",
       "2022-06-17     0.0  717.655869  717.827959       -1.0"
      ]
     },
     "execution_count": 141,
     "metadata": {},
     "output_type": "execute_result"
    }
   ],
   "source": [
    "signal_df['positions'] = signal_df['signal'].diff()\n",
    "signal_df[signal_df['positions']==-1.0]"
   ]
  },
  {
   "cell_type": "markdown",
   "id": "e04a591f",
   "metadata": {},
   "source": [
    "## plotting"
   ]
  },
  {
   "cell_type": "code",
   "execution_count": 146,
   "id": "a6ada114",
   "metadata": {},
   "outputs": [
    {
     "data": {
      "image/png": "[encoded data removed]",
      "text/plain": [
       "<Figure size 864x576 with 1 Axes>"
      ]
     },
     "metadata": {
      "needs_background": "light"
     },
     "output_type": "display_data"
    }
   ],
   "source": [
    "fig = plt.figure()\n",
    "plt1 = fig.add_subplot(111, ylabel = 'Price')\n",
    "df['Adj Close'].plot(ax=plt1, color='r', lw=2.)\n",
    "signal_df[['short_mav', 'long_mav']].plot(ax = plt1, lw=2, figsize=(12,8))\n",
    "plt1.plot(signal_df.loc[signal_df.positions == -1.0].index, signal_df.short_mav[signal_df.positions == -1.0],'v', markersize = 10, color= 'k')\n",
    "plt1.plot(signal_df.loc[signal_df.positions == 1.0].index, signal_df.long_mav[signal_df.positions == 1.0],'^', markersize = 10, color= 'm')\n",
    "plt.show()"
   ]
  },
  {
   "cell_type": "code",
   "execution_count": null,
   "id": "cfab5982",
   "metadata": {},
   "outputs": [],
   "source": []
  },
  {
   "cell_type": "code",
   "execution_count": null,
   "id": "c7030941",
   "metadata": {},
   "outputs": [],
   "source": []
  },
  {
   "cell_type": "code",
   "execution_count": 147,
   "id": "d7aa2ebf",
   "metadata": {},
   "outputs": [
    {
     "data": {
      "text/html": [
       "<div>\n",
       "<style scoped>\n",
       "    .dataframe tbody tr th:only-of-type {\n",
       "        vertical-align: middle;\n",
       "    }\n",
       "\n",
       "    .dataframe tbody tr th {\n",
       "        vertical-align: top;\n",
       "    }\n",
       "\n",
       "    .dataframe thead th {\n",
       "        text-align: right;\n",
       "    }\n",
       "</style>\n",
       "<table border=\"1\" class=\"dataframe\">\n",
       "  <thead>\n",
       "    <tr style=\"text-align: right;\">\n",
       "      <th></th>\n",
       "      <th>signal</th>\n",
       "      <th>short_mav</th>\n",
       "      <th>long_mav</th>\n",
       "      <th>positions</th>\n",
       "    </tr>\n",
       "    <tr>\n",
       "      <th>Date</th>\n",
       "      <th></th>\n",
       "      <th></th>\n",
       "      <th></th>\n",
       "      <th></th>\n",
       "    </tr>\n",
       "  </thead>\n",
       "  <tbody>\n",
       "    <tr>\n",
       "      <th>2018-08-29</th>\n",
       "      <td>0.0</td>\n",
       "      <td>335.988007</td>\n",
       "      <td>335.988007</td>\n",
       "      <td>NaN</td>\n",
       "    </tr>\n",
       "    <tr>\n",
       "      <th>2018-08-30</th>\n",
       "      <td>0.0</td>\n",
       "      <td>337.812683</td>\n",
       "      <td>337.812683</td>\n",
       "      <td>0.0</td>\n",
       "    </tr>\n",
       "    <tr>\n",
       "      <th>2018-08-31</th>\n",
       "      <td>0.0</td>\n",
       "      <td>337.845571</td>\n",
       "      <td>337.845571</td>\n",
       "      <td>0.0</td>\n",
       "    </tr>\n",
       "    <tr>\n",
       "      <th>2018-09-03</th>\n",
       "      <td>0.0</td>\n",
       "      <td>335.778412</td>\n",
       "      <td>335.778412</td>\n",
       "      <td>0.0</td>\n",
       "    </tr>\n",
       "    <tr>\n",
       "      <th>2018-09-04</th>\n",
       "      <td>0.0</td>\n",
       "      <td>333.423584</td>\n",
       "      <td>333.423584</td>\n",
       "      <td>0.0</td>\n",
       "    </tr>\n",
       "    <tr>\n",
       "      <th>...</th>\n",
       "      <td>...</td>\n",
       "      <td>...</td>\n",
       "      <td>...</td>\n",
       "      <td>...</td>\n",
       "    </tr>\n",
       "    <tr>\n",
       "      <th>2022-09-12</th>\n",
       "      <td>1.0</td>\n",
       "      <td>878.225000</td>\n",
       "      <td>778.067451</td>\n",
       "      <td>0.0</td>\n",
       "    </tr>\n",
       "    <tr>\n",
       "      <th>2022-09-13</th>\n",
       "      <td>1.0</td>\n",
       "      <td>880.004999</td>\n",
       "      <td>780.865173</td>\n",
       "      <td>0.0</td>\n",
       "    </tr>\n",
       "    <tr>\n",
       "      <th>2022-09-14</th>\n",
       "      <td>1.0</td>\n",
       "      <td>881.947498</td>\n",
       "      <td>783.524955</td>\n",
       "      <td>0.0</td>\n",
       "    </tr>\n",
       "    <tr>\n",
       "      <th>2022-09-15</th>\n",
       "      <td>1.0</td>\n",
       "      <td>883.664996</td>\n",
       "      <td>786.159849</td>\n",
       "      <td>0.0</td>\n",
       "    </tr>\n",
       "    <tr>\n",
       "      <th>2022-09-16</th>\n",
       "      <td>1.0</td>\n",
       "      <td>884.974997</td>\n",
       "      <td>788.752026</td>\n",
       "      <td>0.0</td>\n",
       "    </tr>\n",
       "  </tbody>\n",
       "</table>\n",
       "<p>1000 rows × 4 columns</p>\n",
       "</div>"
      ],
      "text/plain": [
       "            signal   short_mav    long_mav  positions\n",
       "Date                                                 \n",
       "2018-08-29     0.0  335.988007  335.988007        NaN\n",
       "2018-08-30     0.0  337.812683  337.812683        0.0\n",
       "2018-08-31     0.0  337.845571  337.845571        0.0\n",
       "2018-09-03     0.0  335.778412  335.778412        0.0\n",
       "2018-09-04     0.0  333.423584  333.423584        0.0\n",
       "...            ...         ...         ...        ...\n",
       "2022-09-12     1.0  878.225000  778.067451        0.0\n",
       "2022-09-13     1.0  880.004999  780.865173        0.0\n",
       "2022-09-14     1.0  881.947498  783.524955        0.0\n",
       "2022-09-15     1.0  883.664996  786.159849        0.0\n",
       "2022-09-16     1.0  884.974997  788.752026        0.0\n",
       "\n",
       "[1000 rows x 4 columns]"
      ]
     },
     "execution_count": 147,
     "metadata": {},
     "output_type": "execute_result"
    }
   ],
   "source": [
    "signal_df"
   ]
  },
  {
   "cell_type": "code",
   "execution_count": 149,
   "id": "d407e138",
   "metadata": {},
   "outputs": [],
   "source": [
    "signal_df.to_csv(\"temp.csv\")"
   ]
  },
  {
   "cell_type": "code",
   "execution_count": null,
   "id": "6568ddb7",
   "metadata": {},
   "outputs": [],
   "source": []
  }
 ],
 "metadata": {
  "kernelspec": {
   "display_name": "Python 3 (ipykernel)",
   "language": "python",
   "name": "python3"
  },
  "language_info": {
   "codemirror_mode": {
    "name": "ipython",
    "version": 3
   },
   "file_extension": ".py",
   "mimetype": "text/x-python",
   "name": "python",
   "nbconvert_exporter": "python",
   "pygments_lexer": "ipython3",
   "version": "3.9.12"
  }
 },
 "nbformat": 4,
 "nbformat_minor": 5
}
