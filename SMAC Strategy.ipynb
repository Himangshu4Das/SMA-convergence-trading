{
 "cells": [
  {
   "cell_type": "markdown",
   "id": "8236e986",
   "metadata": {},
   "source": [
    "# This is a sample code for simple trading strategy using 2 simple moving averages (SMA) convergence."
   ]
  },
  {
   "cell_type": "code",
   "execution_count": 31,
   "id": "2fb2d638",
   "metadata": {},
   "outputs": [],
   "source": [
    "import numpy as np\n",
    "import pandas as pd\n",
    "import yfinance as yf\n",
    "import matplotlib.pyplot as plt"
   ]
  },
  {
   "cell_type": "code",
   "execution_count": 32,
   "id": "41879396",
   "metadata": {},
   "outputs": [
    {
     "name": "stdout",
     "output_type": "stream",
     "text": [
      "[*********************100%***********************]  1 of 1 completed\n"
     ]
    }
   ],
   "source": [
    "df = yf.download('ICICIBANK.NS', period = '1000d', interval='1d')"
   ]
  },
  {
   "cell_type": "code",
   "execution_count": 33,
   "id": "196cea86",
   "metadata": {},
   "outputs": [
    {
     "data": {
      "text/html": [
       "<div>\n",
       "<style scoped>\n",
       "    .dataframe tbody tr th:only-of-type {\n",
       "        vertical-align: middle;\n",
       "    }\n",
       "\n",
       "    .dataframe tbody tr th {\n",
       "        vertical-align: top;\n",
       "    }\n",
       "\n",
       "    .dataframe thead th {\n",
       "        text-align: right;\n",
       "    }\n",
       "</style>\n",
       "<table border=\"1\" class=\"dataframe\">\n",
       "  <thead>\n",
       "    <tr style=\"text-align: right;\">\n",
       "      <th></th>\n",
       "      <th>Open</th>\n",
       "      <th>High</th>\n",
       "      <th>Low</th>\n",
       "      <th>Close</th>\n",
       "      <th>Adj Close</th>\n",
       "      <th>Volume</th>\n",
       "    </tr>\n",
       "    <tr>\n",
       "      <th>Date</th>\n",
       "      <th></th>\n",
       "      <th></th>\n",
       "      <th></th>\n",
       "      <th></th>\n",
       "      <th></th>\n",
       "      <th></th>\n",
       "    </tr>\n",
       "  </thead>\n",
       "  <tbody>\n",
       "    <tr>\n",
       "      <th>2019-01-11</th>\n",
       "      <td>380.600006</td>\n",
       "      <td>381.200012</td>\n",
       "      <td>375.250000</td>\n",
       "      <td>378.549988</td>\n",
       "      <td>373.369293</td>\n",
       "      <td>12537973</td>\n",
       "    </tr>\n",
       "    <tr>\n",
       "      <th>2019-01-14</th>\n",
       "      <td>378.700012</td>\n",
       "      <td>378.700012</td>\n",
       "      <td>372.700012</td>\n",
       "      <td>373.350006</td>\n",
       "      <td>368.240479</td>\n",
       "      <td>14844029</td>\n",
       "    </tr>\n",
       "    <tr>\n",
       "      <th>2019-01-15</th>\n",
       "      <td>373.549988</td>\n",
       "      <td>375.399994</td>\n",
       "      <td>370.600006</td>\n",
       "      <td>372.750000</td>\n",
       "      <td>367.648682</td>\n",
       "      <td>12960779</td>\n",
       "    </tr>\n",
       "    <tr>\n",
       "      <th>2019-01-16</th>\n",
       "      <td>372.049988</td>\n",
       "      <td>379.750000</td>\n",
       "      <td>372.049988</td>\n",
       "      <td>375.299988</td>\n",
       "      <td>370.163788</td>\n",
       "      <td>15106484</td>\n",
       "    </tr>\n",
       "    <tr>\n",
       "      <th>2019-01-17</th>\n",
       "      <td>376.000000</td>\n",
       "      <td>377.950012</td>\n",
       "      <td>372.799988</td>\n",
       "      <td>374.600006</td>\n",
       "      <td>369.473389</td>\n",
       "      <td>13171721</td>\n",
       "    </tr>\n",
       "  </tbody>\n",
       "</table>\n",
       "</div>"
      ],
      "text/plain": [
       "                  Open        High         Low       Close   Adj Close  \\\n",
       "Date                                                                     \n",
       "2019-01-11  380.600006  381.200012  375.250000  378.549988  373.369293   \n",
       "2019-01-14  378.700012  378.700012  372.700012  373.350006  368.240479   \n",
       "2019-01-15  373.549988  375.399994  370.600006  372.750000  367.648682   \n",
       "2019-01-16  372.049988  379.750000  372.049988  375.299988  370.163788   \n",
       "2019-01-17  376.000000  377.950012  372.799988  374.600006  369.473389   \n",
       "\n",
       "              Volume  \n",
       "Date                  \n",
       "2019-01-11  12537973  \n",
       "2019-01-14  14844029  \n",
       "2019-01-15  12960779  \n",
       "2019-01-16  15106484  \n",
       "2019-01-17  13171721  "
      ]
     },
     "execution_count": 33,
     "metadata": {},
     "output_type": "execute_result"
    }
   ],
   "source": [
    "df.head()"
   ]
  },
  {
   "cell_type": "markdown",
   "id": "24274675",
   "metadata": {},
   "source": [
    "## EDA"
   ]
  },
  {
   "cell_type": "code",
   "execution_count": 34,
   "id": "fa4bab38",
   "metadata": {},
   "outputs": [
    {
     "name": "stdout",
     "output_type": "stream",
     "text": [
      "<class 'pandas.core.frame.DataFrame'>\n",
      "DatetimeIndex: 1000 entries, 2019-01-11 to 2023-01-25\n",
      "Data columns (total 6 columns):\n",
      " #   Column     Non-Null Count  Dtype  \n",
      "---  ------     --------------  -----  \n",
      " 0   Open       1000 non-null   float64\n",
      " 1   High       1000 non-null   float64\n",
      " 2   Low        1000 non-null   float64\n",
      " 3   Close      1000 non-null   float64\n",
      " 4   Adj Close  1000 non-null   float64\n",
      " 5   Volume     1000 non-null   int64  \n",
      "dtypes: float64(5), int64(1)\n",
      "memory usage: 54.7 KB\n"
     ]
    }
   ],
   "source": [
    "df.info()"
   ]
  },
  {
   "cell_type": "code",
   "execution_count": 35,
   "id": "c69fb444",
   "metadata": {},
   "outputs": [
    {
     "data": {
      "text/html": [
       "<div>\n",
       "<style scoped>\n",
       "    .dataframe tbody tr th:only-of-type {\n",
       "        vertical-align: middle;\n",
       "    }\n",
       "\n",
       "    .dataframe tbody tr th {\n",
       "        vertical-align: top;\n",
       "    }\n",
       "\n",
       "    .dataframe thead th {\n",
       "        text-align: right;\n",
       "    }\n",
       "</style>\n",
       "<table border=\"1\" class=\"dataframe\">\n",
       "  <thead>\n",
       "    <tr style=\"text-align: right;\">\n",
       "      <th></th>\n",
       "      <th>Open</th>\n",
       "      <th>High</th>\n",
       "      <th>Low</th>\n",
       "      <th>Close</th>\n",
       "      <th>Adj Close</th>\n",
       "      <th>Volume</th>\n",
       "    </tr>\n",
       "  </thead>\n",
       "  <tbody>\n",
       "    <tr>\n",
       "      <th>count</th>\n",
       "      <td>1000.000000</td>\n",
       "      <td>1000.000000</td>\n",
       "      <td>1000.000000</td>\n",
       "      <td>1000.000000</td>\n",
       "      <td>1000.000000</td>\n",
       "      <td>1.000000e+03</td>\n",
       "    </tr>\n",
       "    <tr>\n",
       "      <th>mean</th>\n",
       "      <td>583.280999</td>\n",
       "      <td>590.183151</td>\n",
       "      <td>576.029399</td>\n",
       "      <td>583.179199</td>\n",
       "      <td>579.243626</td>\n",
       "      <td>2.150196e+07</td>\n",
       "    </tr>\n",
       "    <tr>\n",
       "      <th>std</th>\n",
       "      <td>184.142217</td>\n",
       "      <td>184.680085</td>\n",
       "      <td>183.592763</td>\n",
       "      <td>184.213831</td>\n",
       "      <td>184.877497</td>\n",
       "      <td>1.698111e+07</td>\n",
       "    </tr>\n",
       "    <tr>\n",
       "      <th>min</th>\n",
       "      <td>284.000000</td>\n",
       "      <td>297.899994</td>\n",
       "      <td>268.299988</td>\n",
       "      <td>284.000000</td>\n",
       "      <td>281.481689</td>\n",
       "      <td>3.149310e+06</td>\n",
       "    </tr>\n",
       "    <tr>\n",
       "      <th>25%</th>\n",
       "      <td>407.000000</td>\n",
       "      <td>412.474998</td>\n",
       "      <td>400.399994</td>\n",
       "      <td>407.650009</td>\n",
       "      <td>402.924683</td>\n",
       "      <td>1.155283e+07</td>\n",
       "    </tr>\n",
       "    <tr>\n",
       "      <th>50%</th>\n",
       "      <td>549.299988</td>\n",
       "      <td>552.075012</td>\n",
       "      <td>540.125000</td>\n",
       "      <td>547.500000</td>\n",
       "      <td>542.645172</td>\n",
       "      <td>1.659773e+07</td>\n",
       "    </tr>\n",
       "    <tr>\n",
       "      <th>75%</th>\n",
       "      <td>731.099991</td>\n",
       "      <td>739.349991</td>\n",
       "      <td>721.362518</td>\n",
       "      <td>730.112488</td>\n",
       "      <td>725.757248</td>\n",
       "      <td>2.562732e+07</td>\n",
       "    </tr>\n",
       "    <tr>\n",
       "      <th>max</th>\n",
       "      <td>956.000000</td>\n",
       "      <td>958.200012</td>\n",
       "      <td>941.000000</td>\n",
       "      <td>952.900024</td>\n",
       "      <td>952.900024</td>\n",
       "      <td>2.868577e+08</td>\n",
       "    </tr>\n",
       "  </tbody>\n",
       "</table>\n",
       "</div>"
      ],
      "text/plain": [
       "              Open         High          Low        Close    Adj Close  \\\n",
       "count  1000.000000  1000.000000  1000.000000  1000.000000  1000.000000   \n",
       "mean    583.280999   590.183151   576.029399   583.179199   579.243626   \n",
       "std     184.142217   184.680085   183.592763   184.213831   184.877497   \n",
       "min     284.000000   297.899994   268.299988   284.000000   281.481689   \n",
       "25%     407.000000   412.474998   400.399994   407.650009   402.924683   \n",
       "50%     549.299988   552.075012   540.125000   547.500000   542.645172   \n",
       "75%     731.099991   739.349991   721.362518   730.112488   725.757248   \n",
       "max     956.000000   958.200012   941.000000   952.900024   952.900024   \n",
       "\n",
       "             Volume  \n",
       "count  1.000000e+03  \n",
       "mean   2.150196e+07  \n",
       "std    1.698111e+07  \n",
       "min    3.149310e+06  \n",
       "25%    1.155283e+07  \n",
       "50%    1.659773e+07  \n",
       "75%    2.562732e+07  \n",
       "max    2.868577e+08  "
      ]
     },
     "execution_count": 35,
     "metadata": {},
     "output_type": "execute_result"
    }
   ],
   "source": [
    "df.describe()"
   ]
  },
  {
   "cell_type": "code",
   "execution_count": 36,
   "id": "7bcf66c6",
   "metadata": {},
   "outputs": [
    {
     "data": {
      "text/html": [
       "<div>\n",
       "<style scoped>\n",
       "    .dataframe tbody tr th:only-of-type {\n",
       "        vertical-align: middle;\n",
       "    }\n",
       "\n",
       "    .dataframe tbody tr th {\n",
       "        vertical-align: top;\n",
       "    }\n",
       "\n",
       "    .dataframe thead th {\n",
       "        text-align: right;\n",
       "    }\n",
       "</style>\n",
       "<table border=\"1\" class=\"dataframe\">\n",
       "  <thead>\n",
       "    <tr style=\"text-align: right;\">\n",
       "      <th></th>\n",
       "      <th>Open</th>\n",
       "      <th>High</th>\n",
       "      <th>Low</th>\n",
       "      <th>Close</th>\n",
       "      <th>Adj Close</th>\n",
       "      <th>Volume</th>\n",
       "    </tr>\n",
       "    <tr>\n",
       "      <th>Date</th>\n",
       "      <th></th>\n",
       "      <th></th>\n",
       "      <th></th>\n",
       "      <th></th>\n",
       "      <th></th>\n",
       "      <th></th>\n",
       "    </tr>\n",
       "  </thead>\n",
       "  <tbody>\n",
       "    <tr>\n",
       "      <th>2019-01-31</th>\n",
       "      <td>367.776668</td>\n",
       "      <td>371.676668</td>\n",
       "      <td>362.420001</td>\n",
       "      <td>366.496665</td>\n",
       "      <td>361.480945</td>\n",
       "      <td>2.234279e+07</td>\n",
       "    </tr>\n",
       "    <tr>\n",
       "      <th>2019-02-28</th>\n",
       "      <td>350.221053</td>\n",
       "      <td>354.102634</td>\n",
       "      <td>346.189472</td>\n",
       "      <td>349.757891</td>\n",
       "      <td>344.971244</td>\n",
       "      <td>1.462270e+07</td>\n",
       "    </tr>\n",
       "    <tr>\n",
       "      <th>2019-03-31</th>\n",
       "      <td>382.216666</td>\n",
       "      <td>387.244444</td>\n",
       "      <td>379.433331</td>\n",
       "      <td>384.583332</td>\n",
       "      <td>379.320082</td>\n",
       "      <td>1.886126e+07</td>\n",
       "    </tr>\n",
       "    <tr>\n",
       "      <th>2019-04-30</th>\n",
       "      <td>397.494738</td>\n",
       "      <td>401.207894</td>\n",
       "      <td>392.521052</td>\n",
       "      <td>396.644737</td>\n",
       "      <td>391.216418</td>\n",
       "      <td>1.322430e+07</td>\n",
       "    </tr>\n",
       "    <tr>\n",
       "      <th>2019-05-31</th>\n",
       "      <td>401.902274</td>\n",
       "      <td>408.304547</td>\n",
       "      <td>396.761361</td>\n",
       "      <td>401.754544</td>\n",
       "      <td>396.256295</td>\n",
       "      <td>2.307944e+07</td>\n",
       "    </tr>\n",
       "  </tbody>\n",
       "</table>\n",
       "</div>"
      ],
      "text/plain": [
       "                  Open        High         Low       Close   Adj Close  \\\n",
       "Date                                                                     \n",
       "2019-01-31  367.776668  371.676668  362.420001  366.496665  361.480945   \n",
       "2019-02-28  350.221053  354.102634  346.189472  349.757891  344.971244   \n",
       "2019-03-31  382.216666  387.244444  379.433331  384.583332  379.320082   \n",
       "2019-04-30  397.494738  401.207894  392.521052  396.644737  391.216418   \n",
       "2019-05-31  401.902274  408.304547  396.761361  401.754544  396.256295   \n",
       "\n",
       "                  Volume  \n",
       "Date                      \n",
       "2019-01-31  2.234279e+07  \n",
       "2019-02-28  1.462270e+07  \n",
       "2019-03-31  1.886126e+07  \n",
       "2019-04-30  1.322430e+07  \n",
       "2019-05-31  2.307944e+07  "
      ]
     },
     "execution_count": 36,
     "metadata": {},
     "output_type": "execute_result"
    }
   ],
   "source": [
    "df.resample('M').mean().head()"
   ]
  },
  {
   "cell_type": "markdown",
   "id": "7c325fea",
   "metadata": {},
   "source": [
    "## Calculating returns"
   ]
  },
  {
   "cell_type": "code",
   "execution_count": 37,
   "id": "17921ee3",
   "metadata": {},
   "outputs": [],
   "source": [
    "daily_close = df[['Adj Close']]"
   ]
  },
  {
   "cell_type": "code",
   "execution_count": 38,
   "id": "8d283f86",
   "metadata": {},
   "outputs": [],
   "source": [
    "daily_return = daily_close.pct_change()"
   ]
  },
  {
   "cell_type": "code",
   "execution_count": 39,
   "id": "e0ea8c2a",
   "metadata": {},
   "outputs": [],
   "source": [
    "daily_return.fillna(0, inplace = True)"
   ]
  },
  {
   "cell_type": "code",
   "execution_count": 40,
   "id": "2d880718",
   "metadata": {},
   "outputs": [
    {
     "name": "stdout",
     "output_type": "stream",
     "text": [
      "            Adj Close\n",
      "Date                 \n",
      "2019-01-11   0.000000\n",
      "2019-01-14  -0.013737\n",
      "2019-01-15  -0.001607\n",
      "2019-01-16   0.006841\n",
      "2019-01-17  -0.001865\n",
      "...               ...\n",
      "2023-01-19  -0.003853\n",
      "2023-01-20   0.004849\n",
      "2023-01-23   0.001551\n",
      "2023-01-24  -0.001090\n",
      "2023-01-25  -0.017743\n",
      "\n",
      "[1000 rows x 1 columns]\n"
     ]
    }
   ],
   "source": [
    "print(daily_return)"
   ]
  },
  {
   "cell_type": "code",
   "execution_count": 41,
   "id": "5aac8f50",
   "metadata": {},
   "outputs": [],
   "source": [
    "new_df = df.resample('M').apply(lambda x:x[-1])\n",
    "monthly_return = new_df.pct_change()"
   ]
  },
  {
   "cell_type": "code",
   "execution_count": 42,
   "id": "189d6000",
   "metadata": {},
   "outputs": [],
   "source": [
    "monthly_return.fillna(0,inplace=True)"
   ]
  },
  {
   "cell_type": "code",
   "execution_count": 43,
   "id": "99e20fe7",
   "metadata": {},
   "outputs": [
    {
     "data": {
      "text/html": [
       "<div>\n",
       "<style scoped>\n",
       "    .dataframe tbody tr th:only-of-type {\n",
       "        vertical-align: middle;\n",
       "    }\n",
       "\n",
       "    .dataframe tbody tr th {\n",
       "        vertical-align: top;\n",
       "    }\n",
       "\n",
       "    .dataframe thead th {\n",
       "        text-align: right;\n",
       "    }\n",
       "</style>\n",
       "<table border=\"1\" class=\"dataframe\">\n",
       "  <thead>\n",
       "    <tr style=\"text-align: right;\">\n",
       "      <th></th>\n",
       "      <th>Open</th>\n",
       "      <th>High</th>\n",
       "      <th>Low</th>\n",
       "      <th>Close</th>\n",
       "      <th>Adj Close</th>\n",
       "      <th>Volume</th>\n",
       "    </tr>\n",
       "    <tr>\n",
       "      <th>Date</th>\n",
       "      <th></th>\n",
       "      <th></th>\n",
       "      <th></th>\n",
       "      <th></th>\n",
       "      <th></th>\n",
       "      <th></th>\n",
       "    </tr>\n",
       "  </thead>\n",
       "  <tbody>\n",
       "    <tr>\n",
       "      <th>2019-01-31</th>\n",
       "      <td>0.000000</td>\n",
       "      <td>0.000000</td>\n",
       "      <td>0.000000</td>\n",
       "      <td>0.000000</td>\n",
       "      <td>0.000000</td>\n",
       "      <td>0.000000</td>\n",
       "    </tr>\n",
       "    <tr>\n",
       "      <th>2019-02-28</th>\n",
       "      <td>-0.065066</td>\n",
       "      <td>-0.066109</td>\n",
       "      <td>-0.025699</td>\n",
       "      <td>-0.039237</td>\n",
       "      <td>-0.039237</td>\n",
       "      <td>-0.786456</td>\n",
       "    </tr>\n",
       "    <tr>\n",
       "      <th>2019-03-31</th>\n",
       "      <td>0.127134</td>\n",
       "      <td>0.142573</td>\n",
       "      <td>0.138406</td>\n",
       "      <td>0.143938</td>\n",
       "      <td>0.143938</td>\n",
       "      <td>0.260007</td>\n",
       "    </tr>\n",
       "    <tr>\n",
       "      <th>2019-04-30</th>\n",
       "      <td>0.038192</td>\n",
       "      <td>0.019657</td>\n",
       "      <td>0.026862</td>\n",
       "      <td>0.017351</td>\n",
       "      <td>0.017351</td>\n",
       "      <td>-0.161866</td>\n",
       "    </tr>\n",
       "    <tr>\n",
       "      <th>2019-05-31</th>\n",
       "      <td>0.047210</td>\n",
       "      <td>0.049780</td>\n",
       "      <td>0.027275</td>\n",
       "      <td>0.039755</td>\n",
       "      <td>0.039755</td>\n",
       "      <td>0.271961</td>\n",
       "    </tr>\n",
       "  </tbody>\n",
       "</table>\n",
       "</div>"
      ],
      "text/plain": [
       "                Open      High       Low     Close  Adj Close    Volume\n",
       "Date                                                                   \n",
       "2019-01-31  0.000000  0.000000  0.000000  0.000000   0.000000  0.000000\n",
       "2019-02-28 -0.065066 -0.066109 -0.025699 -0.039237  -0.039237 -0.786456\n",
       "2019-03-31  0.127134  0.142573  0.138406  0.143938   0.143938  0.260007\n",
       "2019-04-30  0.038192  0.019657  0.026862  0.017351   0.017351 -0.161866\n",
       "2019-05-31  0.047210  0.049780  0.027275  0.039755   0.039755  0.271961"
      ]
     },
     "execution_count": 43,
     "metadata": {},
     "output_type": "execute_result"
    }
   ],
   "source": [
    "monthly_return.head()"
   ]
  },
  {
   "cell_type": "markdown",
   "id": "ebefd9b8",
   "metadata": {},
   "source": [
    "## Mean using Rolling ()"
   ]
  },
  {
   "cell_type": "code",
   "execution_count": 44,
   "id": "83482591",
   "metadata": {},
   "outputs": [],
   "source": [
    "ad_price = df[\"Adj Close\"]"
   ]
  },
  {
   "cell_type": "code",
   "execution_count": 45,
   "id": "6e03615c",
   "metadata": {},
   "outputs": [],
   "source": [
    "mav = ad_price.rolling(window=50).mean()"
   ]
  },
  {
   "cell_type": "code",
   "execution_count": 46,
   "id": "0dbb12f3",
   "metadata": {},
   "outputs": [
    {
     "name": "stdout",
     "output_type": "stream",
     "text": [
      "Date\n",
      "2023-01-12    909.772002\n",
      "2023-01-13    909.068002\n",
      "2023-01-16    908.267002\n",
      "2023-01-17    907.220002\n",
      "2023-01-18    906.400002\n",
      "2023-01-19    905.509003\n",
      "2023-01-20    904.785002\n",
      "2023-01-23    904.320002\n",
      "2023-01-24    903.501002\n",
      "2023-01-25    902.335002\n",
      "Name: Adj Close, dtype: float64\n"
     ]
    }
   ],
   "source": [
    "print(mav[-10:])"
   ]
  },
  {
   "cell_type": "code",
   "execution_count": 47,
   "id": "b290c2be",
   "metadata": {},
   "outputs": [
    {
     "data": {
      "text/plain": [
       "<AxesSubplot:xlabel='Date'>"
      ]
     },
     "execution_count": 47,
     "metadata": {},
     "output_type": "execute_result"
    },
    {
     "data": {
      "image/png": "[encoded data removed]",
      "text/plain": [
       "<Figure size 432x288 with 1 Axes>"
      ]
     },
     "metadata": {
      "needs_background": "light"
     },
     "output_type": "display_data"
    }
   ],
   "source": [
    "ad_price.plot()"
   ]
  },
  {
   "cell_type": "code",
   "execution_count": 48,
   "id": "7512d276",
   "metadata": {},
   "outputs": [
    {
     "data": {
      "text/plain": [
       "<AxesSubplot:xlabel='Date'>"
      ]
     },
     "execution_count": 48,
     "metadata": {},
     "output_type": "execute_result"
    },
    {
     "data": {
      "image/png": "[encoded data removed]",
      "text/plain": [
       "<Figure size 432x288 with 1 Axes>"
      ]
     },
     "metadata": {
      "needs_background": "light"
     },
     "output_type": "display_data"
    }
   ],
   "source": [
    "mav.plot()"
   ]
  },
  {
   "cell_type": "code",
   "execution_count": 49,
   "id": "0ae94140",
   "metadata": {},
   "outputs": [],
   "source": [
    "short_l = 20\n",
    "long_l = 80"
   ]
  },
  {
   "cell_type": "code",
   "execution_count": 50,
   "id": "8af3c93e",
   "metadata": {},
   "outputs": [],
   "source": [
    "signal_df = pd.DataFrame(index= df.index)\n",
    "signal_df['signal']=0.0"
   ]
  },
  {
   "cell_type": "code",
   "execution_count": 51,
   "id": "19365538",
   "metadata": {},
   "outputs": [],
   "source": [
    "signal_df['short_mav'] = df['Adj Close'].rolling(window = short_l, min_periods=1, center = False).mean()"
   ]
  },
  {
   "cell_type": "code",
   "execution_count": 52,
   "id": "7945eb00",
   "metadata": {},
   "outputs": [],
   "source": [
    "signal_df['long_mav'] = df['Adj Close'].rolling(window = long_l, min_periods=1, center = False).mean()"
   ]
  },
  {
   "cell_type": "code",
   "execution_count": 53,
   "id": "d770da50",
   "metadata": {},
   "outputs": [],
   "source": [
    "signal_df['signal'][short_l:] = np.where(signal_df['short_mav'][short_l:]>signal_df['long_mav'][short_l:], 1.0, 0.0)"
   ]
  },
  {
   "cell_type": "code",
   "execution_count": 54,
   "id": "b8be9ae6",
   "metadata": {},
   "outputs": [
    {
     "data": {
      "text/html": [
       "<div>\n",
       "<style scoped>\n",
       "    .dataframe tbody tr th:only-of-type {\n",
       "        vertical-align: middle;\n",
       "    }\n",
       "\n",
       "    .dataframe tbody tr th {\n",
       "        vertical-align: top;\n",
       "    }\n",
       "\n",
       "    .dataframe thead th {\n",
       "        text-align: right;\n",
       "    }\n",
       "</style>\n",
       "<table border=\"1\" class=\"dataframe\">\n",
       "  <thead>\n",
       "    <tr style=\"text-align: right;\">\n",
       "      <th></th>\n",
       "      <th>signal</th>\n",
       "      <th>short_mav</th>\n",
       "      <th>long_mav</th>\n",
       "      <th>positions</th>\n",
       "    </tr>\n",
       "    <tr>\n",
       "      <th>Date</th>\n",
       "      <th></th>\n",
       "      <th></th>\n",
       "      <th></th>\n",
       "      <th></th>\n",
       "    </tr>\n",
       "  </thead>\n",
       "  <tbody>\n",
       "    <tr>\n",
       "      <th>2019-08-23</th>\n",
       "      <td>0.0</td>\n",
       "      <td>410.373557</td>\n",
       "      <td>410.445087</td>\n",
       "      <td>-1.0</td>\n",
       "    </tr>\n",
       "    <tr>\n",
       "      <th>2020-03-06</th>\n",
       "      <td>0.0</td>\n",
       "      <td>522.227837</td>\n",
       "      <td>522.509694</td>\n",
       "      <td>-1.0</td>\n",
       "    </tr>\n",
       "    <tr>\n",
       "      <th>2020-10-01</th>\n",
       "      <td>0.0</td>\n",
       "      <td>359.991808</td>\n",
       "      <td>360.499760</td>\n",
       "      <td>-1.0</td>\n",
       "    </tr>\n",
       "    <tr>\n",
       "      <th>2021-04-15</th>\n",
       "      <td>0.0</td>\n",
       "      <td>571.246802</td>\n",
       "      <td>573.132422</td>\n",
       "      <td>-1.0</td>\n",
       "    </tr>\n",
       "    <tr>\n",
       "      <th>2021-12-20</th>\n",
       "      <td>0.0</td>\n",
       "      <td>732.571362</td>\n",
       "      <td>734.291666</td>\n",
       "      <td>-1.0</td>\n",
       "    </tr>\n",
       "    <tr>\n",
       "      <th>2022-03-03</th>\n",
       "      <td>0.0</td>\n",
       "      <td>756.892905</td>\n",
       "      <td>759.694224</td>\n",
       "      <td>-1.0</td>\n",
       "    </tr>\n",
       "    <tr>\n",
       "      <th>2022-06-14</th>\n",
       "      <td>0.0</td>\n",
       "      <td>720.369580</td>\n",
       "      <td>720.445998</td>\n",
       "      <td>-1.0</td>\n",
       "    </tr>\n",
       "    <tr>\n",
       "      <th>2022-06-17</th>\n",
       "      <td>0.0</td>\n",
       "      <td>717.655869</td>\n",
       "      <td>717.827959</td>\n",
       "      <td>-1.0</td>\n",
       "    </tr>\n",
       "    <tr>\n",
       "      <th>2023-01-06</th>\n",
       "      <td>0.0</td>\n",
       "      <td>900.880002</td>\n",
       "      <td>903.271876</td>\n",
       "      <td>-1.0</td>\n",
       "    </tr>\n",
       "  </tbody>\n",
       "</table>\n",
       "</div>"
      ],
      "text/plain": [
       "            signal   short_mav    long_mav  positions\n",
       "Date                                                 \n",
       "2019-08-23     0.0  410.373557  410.445087       -1.0\n",
       "2020-03-06     0.0  522.227837  522.509694       -1.0\n",
       "2020-10-01     0.0  359.991808  360.499760       -1.0\n",
       "2021-04-15     0.0  571.246802  573.132422       -1.0\n",
       "2021-12-20     0.0  732.571362  734.291666       -1.0\n",
       "2022-03-03     0.0  756.892905  759.694224       -1.0\n",
       "2022-06-14     0.0  720.369580  720.445998       -1.0\n",
       "2022-06-17     0.0  717.655869  717.827959       -1.0\n",
       "2023-01-06     0.0  900.880002  903.271876       -1.0"
      ]
     },
     "execution_count": 54,
     "metadata": {},
     "output_type": "execute_result"
    }
   ],
   "source": [
    "signal_df['positions'] = signal_df['signal'].diff()\n",
    "signal_df[signal_df['positions']==-1.0]"
   ]
  },
  {
   "cell_type": "markdown",
   "id": "e04a591f",
   "metadata": {},
   "source": [
    "## plotting"
   ]
  },
  {
   "cell_type": "code",
   "execution_count": 55,
   "id": "a6ada114",
   "metadata": {},
   "outputs": [
    {
     "data": {
      "image/png": "[encoded data removed]",
      "text/plain": [
       "<Figure size 864x576 with 1 Axes>"
      ]
     },
     "metadata": {
      "needs_background": "light"
     },
     "output_type": "display_data"
    }
   ],
   "source": [
    "fig = plt.figure()\n",
    "plt1 = fig.add_subplot(111, ylabel = 'Price')\n",
    "df['Adj Close'].plot(ax=plt1, color='r', lw=2.)\n",
    "signal_df[['short_mav', 'long_mav']].plot(ax = plt1, lw=2, figsize=(12,8))\n",
    "plt1.plot(signal_df.loc[signal_df.positions == -1.0].index, signal_df.short_mav[signal_df.positions == -1.0],'v', markersize = 10, color= 'k')\n",
    "plt1.plot(signal_df.loc[signal_df.positions == 1.0].index, signal_df.long_mav[signal_df.positions == 1.0],'^', markersize = 10, color= 'm')\n",
    "plt.show()"
   ]
  },
  {
   "cell_type": "code",
   "execution_count": 56,
   "id": "d7aa2ebf",
   "metadata": {},
   "outputs": [
    {
     "data": {
      "text/html": [
       "<div>\n",
       "<style scoped>\n",
       "    .dataframe tbody tr th:only-of-type {\n",
       "        vertical-align: middle;\n",
       "    }\n",
       "\n",
       "    .dataframe tbody tr th {\n",
       "        vertical-align: top;\n",
       "    }\n",
       "\n",
       "    .dataframe thead th {\n",
       "        text-align: right;\n",
       "    }\n",
       "</style>\n",
       "<table border=\"1\" class=\"dataframe\">\n",
       "  <thead>\n",
       "    <tr style=\"text-align: right;\">\n",
       "      <th></th>\n",
       "      <th>signal</th>\n",
       "      <th>short_mav</th>\n",
       "      <th>long_mav</th>\n",
       "      <th>positions</th>\n",
       "    </tr>\n",
       "    <tr>\n",
       "      <th>Date</th>\n",
       "      <th></th>\n",
       "      <th></th>\n",
       "      <th></th>\n",
       "      <th></th>\n",
       "    </tr>\n",
       "  </thead>\n",
       "  <tbody>\n",
       "    <tr>\n",
       "      <th>2019-01-11</th>\n",
       "      <td>0.0</td>\n",
       "      <td>373.369293</td>\n",
       "      <td>373.369293</td>\n",
       "      <td>NaN</td>\n",
       "    </tr>\n",
       "    <tr>\n",
       "      <th>2019-01-14</th>\n",
       "      <td>0.0</td>\n",
       "      <td>370.804886</td>\n",
       "      <td>370.804886</td>\n",
       "      <td>0.0</td>\n",
       "    </tr>\n",
       "    <tr>\n",
       "      <th>2019-01-15</th>\n",
       "      <td>0.0</td>\n",
       "      <td>369.752818</td>\n",
       "      <td>369.752818</td>\n",
       "      <td>0.0</td>\n",
       "    </tr>\n",
       "    <tr>\n",
       "      <th>2019-01-16</th>\n",
       "      <td>0.0</td>\n",
       "      <td>369.855560</td>\n",
       "      <td>369.855560</td>\n",
       "      <td>0.0</td>\n",
       "    </tr>\n",
       "    <tr>\n",
       "      <th>2019-01-17</th>\n",
       "      <td>0.0</td>\n",
       "      <td>369.779126</td>\n",
       "      <td>369.779126</td>\n",
       "      <td>0.0</td>\n",
       "    </tr>\n",
       "    <tr>\n",
       "      <th>...</th>\n",
       "      <td>...</td>\n",
       "      <td>...</td>\n",
       "      <td>...</td>\n",
       "      <td>...</td>\n",
       "    </tr>\n",
       "    <tr>\n",
       "      <th>2023-01-19</th>\n",
       "      <td>0.0</td>\n",
       "      <td>881.195001</td>\n",
       "      <td>899.252502</td>\n",
       "      <td>0.0</td>\n",
       "    </tr>\n",
       "    <tr>\n",
       "      <th>2023-01-20</th>\n",
       "      <td>0.0</td>\n",
       "      <td>880.767499</td>\n",
       "      <td>899.475002</td>\n",
       "      <td>0.0</td>\n",
       "    </tr>\n",
       "    <tr>\n",
       "      <th>2023-01-23</th>\n",
       "      <td>0.0</td>\n",
       "      <td>879.692499</td>\n",
       "      <td>899.752502</td>\n",
       "      <td>0.0</td>\n",
       "    </tr>\n",
       "    <tr>\n",
       "      <th>2023-01-24</th>\n",
       "      <td>0.0</td>\n",
       "      <td>878.197498</td>\n",
       "      <td>900.088126</td>\n",
       "      <td>0.0</td>\n",
       "    </tr>\n",
       "    <tr>\n",
       "      <th>2023-01-25</th>\n",
       "      <td>0.0</td>\n",
       "      <td>876.014996</td>\n",
       "      <td>900.004376</td>\n",
       "      <td>0.0</td>\n",
       "    </tr>\n",
       "  </tbody>\n",
       "</table>\n",
       "<p>1000 rows × 4 columns</p>\n",
       "</div>"
      ],
      "text/plain": [
       "            signal   short_mav    long_mav  positions\n",
       "Date                                                 \n",
       "2019-01-11     0.0  373.369293  373.369293        NaN\n",
       "2019-01-14     0.0  370.804886  370.804886        0.0\n",
       "2019-01-15     0.0  369.752818  369.752818        0.0\n",
       "2019-01-16     0.0  369.855560  369.855560        0.0\n",
       "2019-01-17     0.0  369.779126  369.779126        0.0\n",
       "...            ...         ...         ...        ...\n",
       "2023-01-19     0.0  881.195001  899.252502        0.0\n",
       "2023-01-20     0.0  880.767499  899.475002        0.0\n",
       "2023-01-23     0.0  879.692499  899.752502        0.0\n",
       "2023-01-24     0.0  878.197498  900.088126        0.0\n",
       "2023-01-25     0.0  876.014996  900.004376        0.0\n",
       "\n",
       "[1000 rows x 4 columns]"
      ]
     },
     "execution_count": 56,
     "metadata": {},
     "output_type": "execute_result"
    }
   ],
   "source": [
    "signal_df"
   ]
  },
  {
   "cell_type": "code",
   "execution_count": 57,
   "id": "d407e138",
   "metadata": {},
   "outputs": [],
   "source": [
    "signal_df.to_csv(\"SMA.csv\")"
   ]
  },
  {
   "cell_type": "code",
   "execution_count": 58,
   "id": "328d1b64",
   "metadata": {},
   "outputs": [
    {
     "data": {
      "text/plain": [
       "'According to this strategy, we get into a long position (buy) when the fast moving average becomes greater than the slow\\nmoving average. Vice versa for exiting the trade.'"
      ]
     },
     "execution_count": 58,
     "metadata": {},
     "output_type": "execute_result"
    }
   ],
   "source": [
    "'''According to this strategy, we get into a long position (buy) when the fast moving average becomes greater than the slow\n",
    "moving average. Vice versa for exiting the trade.'''"
   ]
  },
  {
   "cell_type": "code",
   "execution_count": null,
   "id": "d276be6b",
   "metadata": {},
   "outputs": [],
   "source": []
  }
 ],
 "metadata": {
  "kernelspec": {
   "display_name": "Python 3 (ipykernel)",
   "language": "python",
   "name": "python3"
  },
  "language_info": {
   "codemirror_mode": {
    "name": "ipython",
    "version": 3
   },
   "file_extension": ".py",
   "mimetype": "text/x-python",
   "name": "python",
   "nbconvert_exporter": "python",
   "pygments_lexer": "ipython3",
   "version": "3.9.12"
  }
 },
 "nbformat": 4,
 "nbformat_minor": 5
}
